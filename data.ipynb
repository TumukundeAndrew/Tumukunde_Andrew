{
 "cells": [
  {
   "cell_type": "code",
   "execution_count": 6,
   "id": "a859acb7",
   "metadata": {},
   "outputs": [
    {
     "name": "stdout",
     "output_type": "stream",
     "text": [
      "i love data science\n",
      "hello Andrew, welcome to writing files\n",
      "\n"
     ]
    }
   ],
   "source": [
    "print(\"i love data science\")\n",
    "file = open(\"andrew.txt\", \"r\") # r if for read mode\n",
    "\n",
    "# reading from the file\n",
    "content = file.read()\n",
    "#printing the content\n",
    "print(content)\n",
    "#closing the file\n",
    "file.close()\n",
    "\n",
    "#writing to a file\n",
    "with open(\"andrew.txt\", \"w\") as file:\n",
    "    file.write(\"hello Andrew, welcome to writing files\\n\")\n",
    " \n",
    "#appending to a file\n",
    "with open(\"andrew.txt\", \"a\") as file:\n",
    "    file.write(\"hey this is an appended file\")\n",
    "    \n",
    "\n",
    "    \n"
   ]
  },
  {
   "cell_type": "code",
   "execution_count": null,
   "id": "916fd7b6",
   "metadata": {},
   "outputs": [],
   "source": [
    "\n",
    "    "
   ]
  }
 ],
 "metadata": {
  "kernelspec": {
   "display_name": "base",
   "language": "python",
   "name": "python3"
  },
  "language_info": {
   "codemirror_mode": {
    "name": "ipython",
    "version": 3
   },
   "file_extension": ".py",
   "mimetype": "text/x-python",
   "name": "python",
   "nbconvert_exporter": "python",
   "pygments_lexer": "ipython3",
   "version": "3.12.7"
  }
 },
 "nbformat": 4,
 "nbformat_minor": 5
}
