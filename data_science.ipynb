{
 "cells": [
  {
   "cell_type": "code",
   "execution_count": null,
   "id": "eb5923bd",
   "metadata": {
    "vscode": {
     "languageId": "plaintext"
    }
   },
   "outputs": [],
   "source": [
    "#data science\n",
    "#what is the difference between data science, data engineer and data analyst\n",
    "#Tools and skills in data science\n",
    "#R, python, SQL, Hadoop, Spark, Tableau, Power BI, Jupyter notebooks, Tensorflow, PyTorch\n",
    "#What are the careers in data science"
   ]
  }
 ],
 "metadata": {
  "language_info": {
   "name": "python"
  }
 },
 "nbformat": 4,
 "nbformat_minor": 5
}
