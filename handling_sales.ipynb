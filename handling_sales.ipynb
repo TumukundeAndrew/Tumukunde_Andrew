{
 "cells": [
  {
   "cell_type": "code",
   "execution_count": 3,
   "id": "b8df4797",
   "metadata": {},
   "outputs": [
    {
     "name": "stdout",
     "output_type": "stream",
     "text": [
      "<class 'pandas.core.frame.DataFrame'>\n",
      "RangeIndex: 8 entries, 0 to 7\n",
      "Data columns (total 7 columns):\n",
      " #   Column         Non-Null Count  Dtype  \n",
      "---  ------         --------------  -----  \n",
      " 0   Order ID       8 non-null      int64  \n",
      " 1   Customer Name  7 non-null      object \n",
      " 2   Order Date     8 non-null      object \n",
      " 3   Product        8 non-null      object \n",
      " 4   Quantity       7 non-null      float64\n",
      " 5   Unit Price     7 non-null      float64\n",
      " 6   Total Revenue  7 non-null      float64\n",
      "dtypes: float64(3), int64(1), object(3)\n",
      "memory usage: 580.0+ bytes\n"
     ]
    },
    {
     "name": "stderr",
     "output_type": "stream",
     "text": [
      "C:\\Users\\hp\\AppData\\Local\\Temp\\ipykernel_13528\\4202525929.py:7: FutureWarning: DataFrame.fillna with 'method' is deprecated and will raise in a future version. Use obj.ffill() or obj.bfill() instead.\n",
      "  df = df.fillna(method='ffill').fillna(method='bfill')\n"
     ]
    }
   ],
   "source": [
    "import pandas as pd\n",
    "\n",
    "df = pd.read_csv(\"Sales.csv\")\n",
    "df.info()\n",
    "\n",
    "# 1. Handle missing values\n",
    "df = df.fillna(method='ffill').fillna(method='bfill')\n",
    "\n",
    "# 2. Fix inconsistent date formats\n",
    "df['Order Date'] = pd.to_datetime(df['Order Date'], errors='coerce')\n",
    "df['Order Date'] = df['Order Date'].dt.strftime('%Y-%m-%d')\n",
    "\n",
    "# 3. Remove duplicate rows\n",
    "df = df.drop_duplicates()\n",
    "\n",
    "# 4. Remove wrong data (e.g., negative quantities or prices)\n",
    "for col in ['Quantity', 'Unit Price', 'Total Revenue']:\n",
    "    if col in df.columns:\n",
    "        df = df[df[col] >= 0]\n",
    "\n",
    "# 5. Drop unnecessary columns\n",
    "# If Total Revenue = Quantity * Unit Price, we can drop it\n",
    "if 'Total Revenue' in df.columns:\n",
    "    df = df.drop(columns=['Total Revenue'])\n",
    "\n",
    "# Save cleaned dataset\n",
    "df.to_csv('Cleaned_Sales.csv', index=False)\n",
    "\n"
   ]
  }
 ],
 "metadata": {
  "kernelspec": {
   "display_name": "base",
   "language": "python",
   "name": "python3"
  },
  "language_info": {
   "codemirror_mode": {
    "name": "ipython",
    "version": 3
   },
   "file_extension": ".py",
   "mimetype": "text/x-python",
   "name": "python",
   "nbconvert_exporter": "python",
   "pygments_lexer": "ipython3",
   "version": "3.12.7"
  }
 },
 "nbformat": 4,
 "nbformat_minor": 5
}
