{
 "cells": [
  {
   "cell_type": "code",
   "execution_count": 2,
   "id": "9870c07c",
   "metadata": {},
   "outputs": [
    {
     "name": "stdout",
     "output_type": "stream",
     "text": [
      "<class 'pandas.core.frame.DataFrame'>\n",
      "RangeIndex: 31 entries, 0 to 30\n",
      "Data columns (total 5 columns):\n",
      " #   Column    Non-Null Count  Dtype  \n",
      "---  ------    --------------  -----  \n",
      " 0   Duration  31 non-null     int64  \n",
      " 1   Date      29 non-null     object \n",
      " 2   Pulse     30 non-null     float64\n",
      " 3   Maxpulse  29 non-null     float64\n",
      " 4   Calories  27 non-null     float64\n",
      "dtypes: float64(3), int64(1), object(1)\n",
      "memory usage: 1.3+ KB\n"
     ]
    },
    {
     "name": "stderr",
     "output_type": "stream",
     "text": [
      "C:\\Users\\hp\\AppData\\Local\\Temp\\ipykernel_15260\\3457527394.py:7: FutureWarning: DataFrame.fillna with 'method' is deprecated and will raise in a future version. Use obj.ffill() or obj.bfill() instead.\n",
      "  df = df.fillna(method='ffill').fillna(method='bfill')\n"
     ]
    }
   ],
   "source": [
    "import pandas as pd\n",
    "df = pd.read_csv(\"Mine.csv\")\n",
    "df.info()\n",
    "\n",
    "# 1. Handle missing values\n",
    "# Fill missing values using forward fill, then backward fill\n",
    "df = df.fillna(method='ffill').fillna(method='bfill')\n",
    "\n",
    "# 2. Fix inconsistent date formats\n",
    "df['Date'] = pd.to_datetime(df['Date'], errors='coerce')\n",
    "df['Date'] = df['Date'].dt.strftime('%Y-%m-%d')\n",
    "\n",
    "# 3. Remove duplicate rows\n",
    "df = df.drop_duplicates()\n",
    "\n",
    "# 4. Remove wrong data (e.g., negative values in numeric columns)\n",
    "if 'Duration' in df.columns:\n",
    "    df = df[df['Duration'] >= 0]\n",
    "if 'Pulse' in df.columns:\n",
    "    df = df[df['Pulse'] >= 0]\n",
    "if 'Maxpulse' in df.columns:\n",
    "    df = df[df['Maxpulse'] >= 0]\n",
    "if 'Calories' in df.columns:\n",
    "    df = df[df['Calories'] >= 0]\n",
    "\n",
    "# 5. Drop unnecessary columns (no obvious ones in this case, so we skip)\n",
    "\n",
    "# Save cleaned dataset\n",
    "df.to_csv('Cleaned_Mine.csv', index=False)\n"
   ]
  }
 ],
 "metadata": {
  "kernelspec": {
   "display_name": "base",
   "language": "python",
   "name": "python3"
  },
  "language_info": {
   "codemirror_mode": {
    "name": "ipython",
    "version": 3
   },
   "file_extension": ".py",
   "mimetype": "text/x-python",
   "name": "python",
   "nbconvert_exporter": "python",
   "pygments_lexer": "ipython3",
   "version": "3.12.7"
  }
 },
 "nbformat": 4,
 "nbformat_minor": 5
}
